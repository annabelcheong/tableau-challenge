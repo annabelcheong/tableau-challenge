{
 "metadata": {
  "language_info": {
   "codemirror_mode": {
    "name": "ipython",
    "version": 3
   },
   "file_extension": ".py",
   "mimetype": "text/x-python",
   "name": "python",
   "nbconvert_exporter": "python",
   "pygments_lexer": "ipython3",
   "version": "3.6.10"
  },
  "orig_nbformat": 2,
  "kernelspec": {
   "name": "python3",
   "display_name": "Python 3.6.10 64-bit ('PythonData': conda)",
   "metadata": {
    "interpreter": {
     "hash": "e7fc2354c13015bdfad1755b4a48a3eeb5cb703f1c2bff07599d6953b8d3ca77"
    }
   }
  }
 },
 "nbformat": 4,
 "nbformat_minor": 2,
 "cells": [
  {
   "source": [
    "# SUMMARY\n",
    "This jupyter notebook performs ETL of the Citibike data from xxx Start date xxx to xxx End date xxx. \n",
    "The final dataframe is saved and loaded into a csv file for use in Tableau."
   ],
   "cell_type": "markdown",
   "metadata": {}
  },
  {
   "source": [
    "# Extraction and Transformation\n",
    "Extract the saved CSV files (each CSV file has 1 month of data) and combine them into 1 pandas dataframe. "
   ],
   "cell_type": "markdown",
   "metadata": {}
  },
  {
   "cell_type": "code",
   "execution_count": 1,
   "metadata": {},
   "outputs": [],
   "source": [
    "# Dependencies \n",
    "import pandas as pd\n",
    "from os import listdir"
   ]
  },
  {
   "source": [
    "# OPTION 1"
   ],
   "cell_type": "markdown",
   "metadata": {}
  },
  {
   "cell_type": "code",
   "execution_count": 2,
   "metadata": {},
   "outputs": [],
   "source": [
    "# Read the csv files,concatenate them into 1 dataframe\n",
    "citibikes_df = pd.concat(map(pd.read_csv,['RawData/JC-202101-citibike-tripdata.csv','RawData/JC-202102-citibike-tripdata.csv','RawData/JC-202103-citibike-tripdata.csv','RawData/JC-202104-citibike-tripdata.csv']))"
   ]
  },
  {
   "cell_type": "code",
   "execution_count": 3,
   "metadata": {},
   "outputs": [
    {
     "output_type": "execute_result",
     "data": {
      "text/plain": [
       "   tripduration                 starttime                  stoptime  \\\n",
       "0           266  2021-01-01 00:03:35.5100  2021-01-01 00:08:01.7770   \n",
       "1          1543  2021-01-01 00:23:32.9250  2021-01-01 00:49:16.0830   \n",
       "2          1461  2021-01-01 00:23:50.7940  2021-01-01 00:48:12.5660   \n",
       "3           793  2021-01-01 00:31:09.0770  2021-01-01 00:44:22.9430   \n",
       "4           596  2021-01-01 00:35:52.1900  2021-01-01 00:45:48.7740   \n",
       "\n",
       "   start station id start station name  start station latitude  \\\n",
       "0              3273       Manila & 1st               40.721651   \n",
       "1              3681           Grand St               40.715178   \n",
       "2              3681           Grand St               40.715178   \n",
       "3              3185          City Hall               40.717733   \n",
       "4              3639         Harborside               40.719252   \n",
       "\n",
       "   start station longitude  end station id end station name  \\\n",
       "0               -74.042884            3209     Brunswick St   \n",
       "1               -74.037683            3213   Van Vorst Park   \n",
       "2               -74.037683            3213   Van Vorst Park   \n",
       "3               -74.043845            3199     Newport Pkwy   \n",
       "4               -74.034234            3209     Brunswick St   \n",
       "\n",
       "   end station latitude  end station longitude  bikeid    usertype  \\\n",
       "0             40.724176             -74.050656   42494  Subscriber   \n",
       "1             40.718489             -74.047727   45343    Customer   \n",
       "2             40.718489             -74.047727   31794    Customer   \n",
       "3             40.728745             -74.032108   42316    Customer   \n",
       "4             40.724176             -74.050656   32575    Customer   \n",
       "\n",
       "   birth year  gender  \n",
       "0        1988       1  \n",
       "1        1996       2  \n",
       "2        1995       1  \n",
       "3        1969       0  \n",
       "4        1969       0  "
      ],
      "text/html": "<div>\n<style scoped>\n    .dataframe tbody tr th:only-of-type {\n        vertical-align: middle;\n    }\n\n    .dataframe tbody tr th {\n        vertical-align: top;\n    }\n\n    .dataframe thead th {\n        text-align: right;\n    }\n</style>\n<table border=\"1\" class=\"dataframe\">\n  <thead>\n    <tr style=\"text-align: right;\">\n      <th></th>\n      <th>tripduration</th>\n      <th>starttime</th>\n      <th>stoptime</th>\n      <th>start station id</th>\n      <th>start station name</th>\n      <th>start station latitude</th>\n      <th>start station longitude</th>\n      <th>end station id</th>\n      <th>end station name</th>\n      <th>end station latitude</th>\n      <th>end station longitude</th>\n      <th>bikeid</th>\n      <th>usertype</th>\n      <th>birth year</th>\n      <th>gender</th>\n    </tr>\n  </thead>\n  <tbody>\n    <tr>\n      <th>0</th>\n      <td>266</td>\n      <td>2021-01-01 00:03:35.5100</td>\n      <td>2021-01-01 00:08:01.7770</td>\n      <td>3273</td>\n      <td>Manila &amp; 1st</td>\n      <td>40.721651</td>\n      <td>-74.042884</td>\n      <td>3209</td>\n      <td>Brunswick St</td>\n      <td>40.724176</td>\n      <td>-74.050656</td>\n      <td>42494</td>\n      <td>Subscriber</td>\n      <td>1988</td>\n      <td>1</td>\n    </tr>\n    <tr>\n      <th>1</th>\n      <td>1543</td>\n      <td>2021-01-01 00:23:32.9250</td>\n      <td>2021-01-01 00:49:16.0830</td>\n      <td>3681</td>\n      <td>Grand St</td>\n      <td>40.715178</td>\n      <td>-74.037683</td>\n      <td>3213</td>\n      <td>Van Vorst Park</td>\n      <td>40.718489</td>\n      <td>-74.047727</td>\n      <td>45343</td>\n      <td>Customer</td>\n      <td>1996</td>\n      <td>2</td>\n    </tr>\n    <tr>\n      <th>2</th>\n      <td>1461</td>\n      <td>2021-01-01 00:23:50.7940</td>\n      <td>2021-01-01 00:48:12.5660</td>\n      <td>3681</td>\n      <td>Grand St</td>\n      <td>40.715178</td>\n      <td>-74.037683</td>\n      <td>3213</td>\n      <td>Van Vorst Park</td>\n      <td>40.718489</td>\n      <td>-74.047727</td>\n      <td>31794</td>\n      <td>Customer</td>\n      <td>1995</td>\n      <td>1</td>\n    </tr>\n    <tr>\n      <th>3</th>\n      <td>793</td>\n      <td>2021-01-01 00:31:09.0770</td>\n      <td>2021-01-01 00:44:22.9430</td>\n      <td>3185</td>\n      <td>City Hall</td>\n      <td>40.717733</td>\n      <td>-74.043845</td>\n      <td>3199</td>\n      <td>Newport Pkwy</td>\n      <td>40.728745</td>\n      <td>-74.032108</td>\n      <td>42316</td>\n      <td>Customer</td>\n      <td>1969</td>\n      <td>0</td>\n    </tr>\n    <tr>\n      <th>4</th>\n      <td>596</td>\n      <td>2021-01-01 00:35:52.1900</td>\n      <td>2021-01-01 00:45:48.7740</td>\n      <td>3639</td>\n      <td>Harborside</td>\n      <td>40.719252</td>\n      <td>-74.034234</td>\n      <td>3209</td>\n      <td>Brunswick St</td>\n      <td>40.724176</td>\n      <td>-74.050656</td>\n      <td>32575</td>\n      <td>Customer</td>\n      <td>1969</td>\n      <td>0</td>\n    </tr>\n  </tbody>\n</table>\n</div>"
     },
     "metadata": {},
     "execution_count": 3
    }
   ],
   "source": [
    "citibikes_df.head()"
   ]
  },
  {
   "source": [
    "# OPTION 2 \n",
    "- Import all csv files and concatenate\n",
    "    - Import all csvs from folder 'RawData'\n",
    "    - Concatenate all csvs\n"
   ],
   "cell_type": "markdown",
   "metadata": {}
  },
  {
   "cell_type": "code",
   "execution_count": 4,
   "metadata": {},
   "outputs": [
    {
     "output_type": "execute_result",
     "data": {
      "text/plain": [
       "       tripduration                 starttime                  stoptime  \\\n",
       "0               156  2020-10-01 00:02:40.2600  2020-10-01 00:05:17.0140   \n",
       "1               143  2020-10-01 00:02:53.5020  2020-10-01 00:05:16.9650   \n",
       "2               305  2020-10-01 00:04:31.3160  2020-10-01 00:09:36.3840   \n",
       "3              1097  2020-10-01 00:05:18.3680  2020-10-01 00:23:36.1240   \n",
       "4               277  2020-10-01 00:09:17.5990  2020-10-01 00:13:55.5150   \n",
       "...             ...                       ...                       ...   \n",
       "53828           270  2020-10-13 15:05:35.0860  2020-10-13 15:10:05.3430   \n",
       "53829           400  2020-10-13 15:09:03.4890  2020-10-13 15:15:43.9750   \n",
       "53830           206  2020-10-13 15:11:34.3500  2020-10-13 15:15:00.5030   \n",
       "53831           216  2020-10-13 15:11:49.1510  2020-10-13 15:15:25.6930   \n",
       "53832           418  2020-10-13 15:12:31.7920  2020-10-13 15:19:30.5280   \n",
       "\n",
       "       start station id start station name  start station latitude  \\\n",
       "0                  3186      Grove St PATH               40.719586   \n",
       "1                  3186      Grove St PATH               40.719586   \n",
       "2                  3273       Manila & 1st               40.721651   \n",
       "3                  3199       Newport Pkwy               40.728745   \n",
       "4                  3199       Newport Pkwy               40.728745   \n",
       "...                 ...                ...                     ...   \n",
       "53828              3207        Oakland Ave               40.737604   \n",
       "53829              3209       Brunswick St               40.724176   \n",
       "53830              3195            Sip Ave               40.730897   \n",
       "53831              3195            Sip Ave               40.730897   \n",
       "53832              3267       Morris Canal               40.712419   \n",
       "\n",
       "       start station longitude  end station id       end station name  \\\n",
       "0                   -74.043117            3270        Jersey & 6th St   \n",
       "1                   -74.043117            3270        Jersey & 6th St   \n",
       "2                   -74.042884            3269        Brunswick & 6th   \n",
       "3                   -74.032108            3281    Leonard Gordon Park   \n",
       "4                   -74.032108            3638          Washington St   \n",
       "...                        ...             ...                    ...   \n",
       "53828               -74.052478            3640         Journal Square   \n",
       "53829               -74.050656            3209           Brunswick St   \n",
       "53830               -74.063913            3194        McGinley Square   \n",
       "53831               -74.063913            3225  Baldwin at Montgomery   \n",
       "53832               -74.038526            3186          Grove St PATH   \n",
       "\n",
       "       end station latitude  end station longitude  bikeid    usertype  \\\n",
       "0                 40.725289             -74.045572   42293  Subscriber   \n",
       "1                 40.725289             -74.045572   44740  Subscriber   \n",
       "2                 40.726012             -74.050389   41369  Subscriber   \n",
       "3                 40.745910             -74.057271   42285    Customer   \n",
       "4                 40.724294             -74.035483   45231  Subscriber   \n",
       "...                     ...                    ...     ...         ...   \n",
       "53828             40.733670             -74.062500   44744  Subscriber   \n",
       "53829             40.724176             -74.050656   45345  Subscriber   \n",
       "53830             40.725340             -74.067622   47019  Subscriber   \n",
       "53831             40.723659             -74.064194   42191  Subscriber   \n",
       "53832             40.719586             -74.043117   47255  Subscriber   \n",
       "\n",
       "       birth year  gender  \n",
       "0            1996       1  \n",
       "1            1998       1  \n",
       "2            1988       2  \n",
       "3            2001       1  \n",
       "4            1965       1  \n",
       "...           ...     ...  \n",
       "53828        1963       2  \n",
       "53829        1984       1  \n",
       "53830        1993       1  \n",
       "53831        1966       1  \n",
       "53832        1991       1  \n",
       "\n",
       "[393312 rows x 15 columns]"
      ],
      "text/html": "<div>\n<style scoped>\n    .dataframe tbody tr th:only-of-type {\n        vertical-align: middle;\n    }\n\n    .dataframe tbody tr th {\n        vertical-align: top;\n    }\n\n    .dataframe thead th {\n        text-align: right;\n    }\n</style>\n<table border=\"1\" class=\"dataframe\">\n  <thead>\n    <tr style=\"text-align: right;\">\n      <th></th>\n      <th>tripduration</th>\n      <th>starttime</th>\n      <th>stoptime</th>\n      <th>start station id</th>\n      <th>start station name</th>\n      <th>start station latitude</th>\n      <th>start station longitude</th>\n      <th>end station id</th>\n      <th>end station name</th>\n      <th>end station latitude</th>\n      <th>end station longitude</th>\n      <th>bikeid</th>\n      <th>usertype</th>\n      <th>birth year</th>\n      <th>gender</th>\n    </tr>\n  </thead>\n  <tbody>\n    <tr>\n      <th>0</th>\n      <td>156</td>\n      <td>2020-10-01 00:02:40.2600</td>\n      <td>2020-10-01 00:05:17.0140</td>\n      <td>3186</td>\n      <td>Grove St PATH</td>\n      <td>40.719586</td>\n      <td>-74.043117</td>\n      <td>3270</td>\n      <td>Jersey &amp; 6th St</td>\n      <td>40.725289</td>\n      <td>-74.045572</td>\n      <td>42293</td>\n      <td>Subscriber</td>\n      <td>1996</td>\n      <td>1</td>\n    </tr>\n    <tr>\n      <th>1</th>\n      <td>143</td>\n      <td>2020-10-01 00:02:53.5020</td>\n      <td>2020-10-01 00:05:16.9650</td>\n      <td>3186</td>\n      <td>Grove St PATH</td>\n      <td>40.719586</td>\n      <td>-74.043117</td>\n      <td>3270</td>\n      <td>Jersey &amp; 6th St</td>\n      <td>40.725289</td>\n      <td>-74.045572</td>\n      <td>44740</td>\n      <td>Subscriber</td>\n      <td>1998</td>\n      <td>1</td>\n    </tr>\n    <tr>\n      <th>2</th>\n      <td>305</td>\n      <td>2020-10-01 00:04:31.3160</td>\n      <td>2020-10-01 00:09:36.3840</td>\n      <td>3273</td>\n      <td>Manila &amp; 1st</td>\n      <td>40.721651</td>\n      <td>-74.042884</td>\n      <td>3269</td>\n      <td>Brunswick &amp; 6th</td>\n      <td>40.726012</td>\n      <td>-74.050389</td>\n      <td>41369</td>\n      <td>Subscriber</td>\n      <td>1988</td>\n      <td>2</td>\n    </tr>\n    <tr>\n      <th>3</th>\n      <td>1097</td>\n      <td>2020-10-01 00:05:18.3680</td>\n      <td>2020-10-01 00:23:36.1240</td>\n      <td>3199</td>\n      <td>Newport Pkwy</td>\n      <td>40.728745</td>\n      <td>-74.032108</td>\n      <td>3281</td>\n      <td>Leonard Gordon Park</td>\n      <td>40.745910</td>\n      <td>-74.057271</td>\n      <td>42285</td>\n      <td>Customer</td>\n      <td>2001</td>\n      <td>1</td>\n    </tr>\n    <tr>\n      <th>4</th>\n      <td>277</td>\n      <td>2020-10-01 00:09:17.5990</td>\n      <td>2020-10-01 00:13:55.5150</td>\n      <td>3199</td>\n      <td>Newport Pkwy</td>\n      <td>40.728745</td>\n      <td>-74.032108</td>\n      <td>3638</td>\n      <td>Washington St</td>\n      <td>40.724294</td>\n      <td>-74.035483</td>\n      <td>45231</td>\n      <td>Subscriber</td>\n      <td>1965</td>\n      <td>1</td>\n    </tr>\n    <tr>\n      <th>...</th>\n      <td>...</td>\n      <td>...</td>\n      <td>...</td>\n      <td>...</td>\n      <td>...</td>\n      <td>...</td>\n      <td>...</td>\n      <td>...</td>\n      <td>...</td>\n      <td>...</td>\n      <td>...</td>\n      <td>...</td>\n      <td>...</td>\n      <td>...</td>\n      <td>...</td>\n    </tr>\n    <tr>\n      <th>53828</th>\n      <td>270</td>\n      <td>2020-10-13 15:05:35.0860</td>\n      <td>2020-10-13 15:10:05.3430</td>\n      <td>3207</td>\n      <td>Oakland Ave</td>\n      <td>40.737604</td>\n      <td>-74.052478</td>\n      <td>3640</td>\n      <td>Journal Square</td>\n      <td>40.733670</td>\n      <td>-74.062500</td>\n      <td>44744</td>\n      <td>Subscriber</td>\n      <td>1963</td>\n      <td>2</td>\n    </tr>\n    <tr>\n      <th>53829</th>\n      <td>400</td>\n      <td>2020-10-13 15:09:03.4890</td>\n      <td>2020-10-13 15:15:43.9750</td>\n      <td>3209</td>\n      <td>Brunswick St</td>\n      <td>40.724176</td>\n      <td>-74.050656</td>\n      <td>3209</td>\n      <td>Brunswick St</td>\n      <td>40.724176</td>\n      <td>-74.050656</td>\n      <td>45345</td>\n      <td>Subscriber</td>\n      <td>1984</td>\n      <td>1</td>\n    </tr>\n    <tr>\n      <th>53830</th>\n      <td>206</td>\n      <td>2020-10-13 15:11:34.3500</td>\n      <td>2020-10-13 15:15:00.5030</td>\n      <td>3195</td>\n      <td>Sip Ave</td>\n      <td>40.730897</td>\n      <td>-74.063913</td>\n      <td>3194</td>\n      <td>McGinley Square</td>\n      <td>40.725340</td>\n      <td>-74.067622</td>\n      <td>47019</td>\n      <td>Subscriber</td>\n      <td>1993</td>\n      <td>1</td>\n    </tr>\n    <tr>\n      <th>53831</th>\n      <td>216</td>\n      <td>2020-10-13 15:11:49.1510</td>\n      <td>2020-10-13 15:15:25.6930</td>\n      <td>3195</td>\n      <td>Sip Ave</td>\n      <td>40.730897</td>\n      <td>-74.063913</td>\n      <td>3225</td>\n      <td>Baldwin at Montgomery</td>\n      <td>40.723659</td>\n      <td>-74.064194</td>\n      <td>42191</td>\n      <td>Subscriber</td>\n      <td>1966</td>\n      <td>1</td>\n    </tr>\n    <tr>\n      <th>53832</th>\n      <td>418</td>\n      <td>2020-10-13 15:12:31.7920</td>\n      <td>2020-10-13 15:19:30.5280</td>\n      <td>3267</td>\n      <td>Morris Canal</td>\n      <td>40.712419</td>\n      <td>-74.038526</td>\n      <td>3186</td>\n      <td>Grove St PATH</td>\n      <td>40.719586</td>\n      <td>-74.043117</td>\n      <td>47255</td>\n      <td>Subscriber</td>\n      <td>1991</td>\n      <td>1</td>\n    </tr>\n  </tbody>\n</table>\n<p>393312 rows × 15 columns</p>\n</div>"
     },
     "metadata": {},
     "execution_count": 4
    }
   ],
   "source": [
    "# Extract all csvs from folder RawData\n",
    "filepaths = ['RawData/' + f for f in listdir(\"RawData\") if f.endswith('.csv')]\n",
    "filepaths\n",
    "# Concatentate the csvs and save into a pandas dataframe\n",
    "df = pd.concat(map(pd.read_csv,filepaths))\n",
    "df"
   ]
  },
  {
   "source": [
    "### Transformation\n",
    "Determine the day of the week for startdate and finishdate (They generally should be the same unless the rider rides through midnight on the trip.)"
   ],
   "cell_type": "markdown",
   "metadata": {}
  },
  {
   "cell_type": "code",
   "execution_count": 5,
   "metadata": {},
   "outputs": [
    {
     "output_type": "execute_result",
     "data": {
      "text/plain": [
       "   tripduration                 starttime                  stoptime  \\\n",
       "0           156  2020-10-01 00:02:40.2600  2020-10-01 00:05:17.0140   \n",
       "1           143  2020-10-01 00:02:53.5020  2020-10-01 00:05:16.9650   \n",
       "2           305  2020-10-01 00:04:31.3160  2020-10-01 00:09:36.3840   \n",
       "3          1097  2020-10-01 00:05:18.3680  2020-10-01 00:23:36.1240   \n",
       "4           277  2020-10-01 00:09:17.5990  2020-10-01 00:13:55.5150   \n",
       "\n",
       "   start station id start station name  start station latitude  \\\n",
       "0              3186      Grove St PATH               40.719586   \n",
       "1              3186      Grove St PATH               40.719586   \n",
       "2              3273       Manila & 1st               40.721651   \n",
       "3              3199       Newport Pkwy               40.728745   \n",
       "4              3199       Newport Pkwy               40.728745   \n",
       "\n",
       "   start station longitude  end station id     end station name  \\\n",
       "0               -74.043117            3270      Jersey & 6th St   \n",
       "1               -74.043117            3270      Jersey & 6th St   \n",
       "2               -74.042884            3269      Brunswick & 6th   \n",
       "3               -74.032108            3281  Leonard Gordon Park   \n",
       "4               -74.032108            3638        Washington St   \n",
       "\n",
       "   end station latitude  end station longitude  bikeid    usertype  \\\n",
       "0             40.725289             -74.045572   42293  Subscriber   \n",
       "1             40.725289             -74.045572   44740  Subscriber   \n",
       "2             40.726012             -74.050389   41369  Subscriber   \n",
       "3             40.745910             -74.057271   42285    Customer   \n",
       "4             40.724294             -74.035483   45231  Subscriber   \n",
       "\n",
       "   birth year  gender               startdate                stopdate  \n",
       "0        1996       1 2020-10-01 00:02:40.260 2020-10-01 00:05:17.014  \n",
       "1        1998       1 2020-10-01 00:02:53.502 2020-10-01 00:05:16.965  \n",
       "2        1988       2 2020-10-01 00:04:31.316 2020-10-01 00:09:36.384  \n",
       "3        2001       1 2020-10-01 00:05:18.368 2020-10-01 00:23:36.124  \n",
       "4        1965       1 2020-10-01 00:09:17.599 2020-10-01 00:13:55.515  "
      ],
      "text/html": "<div>\n<style scoped>\n    .dataframe tbody tr th:only-of-type {\n        vertical-align: middle;\n    }\n\n    .dataframe tbody tr th {\n        vertical-align: top;\n    }\n\n    .dataframe thead th {\n        text-align: right;\n    }\n</style>\n<table border=\"1\" class=\"dataframe\">\n  <thead>\n    <tr style=\"text-align: right;\">\n      <th></th>\n      <th>tripduration</th>\n      <th>starttime</th>\n      <th>stoptime</th>\n      <th>start station id</th>\n      <th>start station name</th>\n      <th>start station latitude</th>\n      <th>start station longitude</th>\n      <th>end station id</th>\n      <th>end station name</th>\n      <th>end station latitude</th>\n      <th>end station longitude</th>\n      <th>bikeid</th>\n      <th>usertype</th>\n      <th>birth year</th>\n      <th>gender</th>\n      <th>startdate</th>\n      <th>stopdate</th>\n    </tr>\n  </thead>\n  <tbody>\n    <tr>\n      <th>0</th>\n      <td>156</td>\n      <td>2020-10-01 00:02:40.2600</td>\n      <td>2020-10-01 00:05:17.0140</td>\n      <td>3186</td>\n      <td>Grove St PATH</td>\n      <td>40.719586</td>\n      <td>-74.043117</td>\n      <td>3270</td>\n      <td>Jersey &amp; 6th St</td>\n      <td>40.725289</td>\n      <td>-74.045572</td>\n      <td>42293</td>\n      <td>Subscriber</td>\n      <td>1996</td>\n      <td>1</td>\n      <td>2020-10-01 00:02:40.260</td>\n      <td>2020-10-01 00:05:17.014</td>\n    </tr>\n    <tr>\n      <th>1</th>\n      <td>143</td>\n      <td>2020-10-01 00:02:53.5020</td>\n      <td>2020-10-01 00:05:16.9650</td>\n      <td>3186</td>\n      <td>Grove St PATH</td>\n      <td>40.719586</td>\n      <td>-74.043117</td>\n      <td>3270</td>\n      <td>Jersey &amp; 6th St</td>\n      <td>40.725289</td>\n      <td>-74.045572</td>\n      <td>44740</td>\n      <td>Subscriber</td>\n      <td>1998</td>\n      <td>1</td>\n      <td>2020-10-01 00:02:53.502</td>\n      <td>2020-10-01 00:05:16.965</td>\n    </tr>\n    <tr>\n      <th>2</th>\n      <td>305</td>\n      <td>2020-10-01 00:04:31.3160</td>\n      <td>2020-10-01 00:09:36.3840</td>\n      <td>3273</td>\n      <td>Manila &amp; 1st</td>\n      <td>40.721651</td>\n      <td>-74.042884</td>\n      <td>3269</td>\n      <td>Brunswick &amp; 6th</td>\n      <td>40.726012</td>\n      <td>-74.050389</td>\n      <td>41369</td>\n      <td>Subscriber</td>\n      <td>1988</td>\n      <td>2</td>\n      <td>2020-10-01 00:04:31.316</td>\n      <td>2020-10-01 00:09:36.384</td>\n    </tr>\n    <tr>\n      <th>3</th>\n      <td>1097</td>\n      <td>2020-10-01 00:05:18.3680</td>\n      <td>2020-10-01 00:23:36.1240</td>\n      <td>3199</td>\n      <td>Newport Pkwy</td>\n      <td>40.728745</td>\n      <td>-74.032108</td>\n      <td>3281</td>\n      <td>Leonard Gordon Park</td>\n      <td>40.745910</td>\n      <td>-74.057271</td>\n      <td>42285</td>\n      <td>Customer</td>\n      <td>2001</td>\n      <td>1</td>\n      <td>2020-10-01 00:05:18.368</td>\n      <td>2020-10-01 00:23:36.124</td>\n    </tr>\n    <tr>\n      <th>4</th>\n      <td>277</td>\n      <td>2020-10-01 00:09:17.5990</td>\n      <td>2020-10-01 00:13:55.5150</td>\n      <td>3199</td>\n      <td>Newport Pkwy</td>\n      <td>40.728745</td>\n      <td>-74.032108</td>\n      <td>3638</td>\n      <td>Washington St</td>\n      <td>40.724294</td>\n      <td>-74.035483</td>\n      <td>45231</td>\n      <td>Subscriber</td>\n      <td>1965</td>\n      <td>1</td>\n      <td>2020-10-01 00:09:17.599</td>\n      <td>2020-10-01 00:13:55.515</td>\n    </tr>\n  </tbody>\n</table>\n</div>"
     },
     "metadata": {},
     "execution_count": 5
    }
   ],
   "source": [
    "# Objective - to determine the start_day and stop_day\n",
    "\n",
    "# Convert object to date format\n",
    "df[\"startdate\"]= pd.to_datetime(df[\"starttime\"])\n",
    "df[\"stopdate\"]= pd.to_datetime(df[\"stoptime\"])\n",
    "df.head()"
   ]
  },
  {
   "cell_type": "code",
   "execution_count": 6,
   "metadata": {},
   "outputs": [
    {
     "output_type": "execute_result",
     "data": {
      "text/plain": [
       "       tripduration                 starttime                  stoptime  \\\n",
       "0               156  2020-10-01 00:02:40.2600  2020-10-01 00:05:17.0140   \n",
       "1               143  2020-10-01 00:02:53.5020  2020-10-01 00:05:16.9650   \n",
       "2               305  2020-10-01 00:04:31.3160  2020-10-01 00:09:36.3840   \n",
       "3              1097  2020-10-01 00:05:18.3680  2020-10-01 00:23:36.1240   \n",
       "4               277  2020-10-01 00:09:17.5990  2020-10-01 00:13:55.5150   \n",
       "...             ...                       ...                       ...   \n",
       "53828           270  2020-10-13 15:05:35.0860  2020-10-13 15:10:05.3430   \n",
       "53829           400  2020-10-13 15:09:03.4890  2020-10-13 15:15:43.9750   \n",
       "53830           206  2020-10-13 15:11:34.3500  2020-10-13 15:15:00.5030   \n",
       "53831           216  2020-10-13 15:11:49.1510  2020-10-13 15:15:25.6930   \n",
       "53832           418  2020-10-13 15:12:31.7920  2020-10-13 15:19:30.5280   \n",
       "\n",
       "       start station id start station name  start station latitude  \\\n",
       "0                  3186      Grove St PATH               40.719586   \n",
       "1                  3186      Grove St PATH               40.719586   \n",
       "2                  3273       Manila & 1st               40.721651   \n",
       "3                  3199       Newport Pkwy               40.728745   \n",
       "4                  3199       Newport Pkwy               40.728745   \n",
       "...                 ...                ...                     ...   \n",
       "53828              3207        Oakland Ave               40.737604   \n",
       "53829              3209       Brunswick St               40.724176   \n",
       "53830              3195            Sip Ave               40.730897   \n",
       "53831              3195            Sip Ave               40.730897   \n",
       "53832              3267       Morris Canal               40.712419   \n",
       "\n",
       "       start station longitude  end station id       end station name  \\\n",
       "0                   -74.043117            3270        Jersey & 6th St   \n",
       "1                   -74.043117            3270        Jersey & 6th St   \n",
       "2                   -74.042884            3269        Brunswick & 6th   \n",
       "3                   -74.032108            3281    Leonard Gordon Park   \n",
       "4                   -74.032108            3638          Washington St   \n",
       "...                        ...             ...                    ...   \n",
       "53828               -74.052478            3640         Journal Square   \n",
       "53829               -74.050656            3209           Brunswick St   \n",
       "53830               -74.063913            3194        McGinley Square   \n",
       "53831               -74.063913            3225  Baldwin at Montgomery   \n",
       "53832               -74.038526            3186          Grove St PATH   \n",
       "\n",
       "       end station latitude  end station longitude  bikeid    usertype  \\\n",
       "0                 40.725289             -74.045572   42293  Subscriber   \n",
       "1                 40.725289             -74.045572   44740  Subscriber   \n",
       "2                 40.726012             -74.050389   41369  Subscriber   \n",
       "3                 40.745910             -74.057271   42285    Customer   \n",
       "4                 40.724294             -74.035483   45231  Subscriber   \n",
       "...                     ...                    ...     ...         ...   \n",
       "53828             40.733670             -74.062500   44744  Subscriber   \n",
       "53829             40.724176             -74.050656   45345  Subscriber   \n",
       "53830             40.725340             -74.067622   47019  Subscriber   \n",
       "53831             40.723659             -74.064194   42191  Subscriber   \n",
       "53832             40.719586             -74.043117   47255  Subscriber   \n",
       "\n",
       "       birth year  gender               startdate                stopdate  \\\n",
       "0            1996       1 2020-10-01 00:02:40.260 2020-10-01 00:05:17.014   \n",
       "1            1998       1 2020-10-01 00:02:53.502 2020-10-01 00:05:16.965   \n",
       "2            1988       2 2020-10-01 00:04:31.316 2020-10-01 00:09:36.384   \n",
       "3            2001       1 2020-10-01 00:05:18.368 2020-10-01 00:23:36.124   \n",
       "4            1965       1 2020-10-01 00:09:17.599 2020-10-01 00:13:55.515   \n",
       "...           ...     ...                     ...                     ...   \n",
       "53828        1963       2 2020-10-13 15:05:35.086 2020-10-13 15:10:05.343   \n",
       "53829        1984       1 2020-10-13 15:09:03.489 2020-10-13 15:15:43.975   \n",
       "53830        1993       1 2020-10-13 15:11:34.350 2020-10-13 15:15:00.503   \n",
       "53831        1966       1 2020-10-13 15:11:49.151 2020-10-13 15:15:25.693   \n",
       "53832        1991       1 2020-10-13 15:12:31.792 2020-10-13 15:19:30.528   \n",
       "\n",
       "       startday   stopday  \n",
       "0      Thursday  Thursday  \n",
       "1      Thursday  Thursday  \n",
       "2      Thursday  Thursday  \n",
       "3      Thursday  Thursday  \n",
       "4      Thursday  Thursday  \n",
       "...         ...       ...  \n",
       "53828   Tuesday   Tuesday  \n",
       "53829   Tuesday   Tuesday  \n",
       "53830   Tuesday   Tuesday  \n",
       "53831   Tuesday   Tuesday  \n",
       "53832   Tuesday   Tuesday  \n",
       "\n",
       "[393312 rows x 19 columns]"
      ],
      "text/html": "<div>\n<style scoped>\n    .dataframe tbody tr th:only-of-type {\n        vertical-align: middle;\n    }\n\n    .dataframe tbody tr th {\n        vertical-align: top;\n    }\n\n    .dataframe thead th {\n        text-align: right;\n    }\n</style>\n<table border=\"1\" class=\"dataframe\">\n  <thead>\n    <tr style=\"text-align: right;\">\n      <th></th>\n      <th>tripduration</th>\n      <th>starttime</th>\n      <th>stoptime</th>\n      <th>start station id</th>\n      <th>start station name</th>\n      <th>start station latitude</th>\n      <th>start station longitude</th>\n      <th>end station id</th>\n      <th>end station name</th>\n      <th>end station latitude</th>\n      <th>end station longitude</th>\n      <th>bikeid</th>\n      <th>usertype</th>\n      <th>birth year</th>\n      <th>gender</th>\n      <th>startdate</th>\n      <th>stopdate</th>\n      <th>startday</th>\n      <th>stopday</th>\n    </tr>\n  </thead>\n  <tbody>\n    <tr>\n      <th>0</th>\n      <td>156</td>\n      <td>2020-10-01 00:02:40.2600</td>\n      <td>2020-10-01 00:05:17.0140</td>\n      <td>3186</td>\n      <td>Grove St PATH</td>\n      <td>40.719586</td>\n      <td>-74.043117</td>\n      <td>3270</td>\n      <td>Jersey &amp; 6th St</td>\n      <td>40.725289</td>\n      <td>-74.045572</td>\n      <td>42293</td>\n      <td>Subscriber</td>\n      <td>1996</td>\n      <td>1</td>\n      <td>2020-10-01 00:02:40.260</td>\n      <td>2020-10-01 00:05:17.014</td>\n      <td>Thursday</td>\n      <td>Thursday</td>\n    </tr>\n    <tr>\n      <th>1</th>\n      <td>143</td>\n      <td>2020-10-01 00:02:53.5020</td>\n      <td>2020-10-01 00:05:16.9650</td>\n      <td>3186</td>\n      <td>Grove St PATH</td>\n      <td>40.719586</td>\n      <td>-74.043117</td>\n      <td>3270</td>\n      <td>Jersey &amp; 6th St</td>\n      <td>40.725289</td>\n      <td>-74.045572</td>\n      <td>44740</td>\n      <td>Subscriber</td>\n      <td>1998</td>\n      <td>1</td>\n      <td>2020-10-01 00:02:53.502</td>\n      <td>2020-10-01 00:05:16.965</td>\n      <td>Thursday</td>\n      <td>Thursday</td>\n    </tr>\n    <tr>\n      <th>2</th>\n      <td>305</td>\n      <td>2020-10-01 00:04:31.3160</td>\n      <td>2020-10-01 00:09:36.3840</td>\n      <td>3273</td>\n      <td>Manila &amp; 1st</td>\n      <td>40.721651</td>\n      <td>-74.042884</td>\n      <td>3269</td>\n      <td>Brunswick &amp; 6th</td>\n      <td>40.726012</td>\n      <td>-74.050389</td>\n      <td>41369</td>\n      <td>Subscriber</td>\n      <td>1988</td>\n      <td>2</td>\n      <td>2020-10-01 00:04:31.316</td>\n      <td>2020-10-01 00:09:36.384</td>\n      <td>Thursday</td>\n      <td>Thursday</td>\n    </tr>\n    <tr>\n      <th>3</th>\n      <td>1097</td>\n      <td>2020-10-01 00:05:18.3680</td>\n      <td>2020-10-01 00:23:36.1240</td>\n      <td>3199</td>\n      <td>Newport Pkwy</td>\n      <td>40.728745</td>\n      <td>-74.032108</td>\n      <td>3281</td>\n      <td>Leonard Gordon Park</td>\n      <td>40.745910</td>\n      <td>-74.057271</td>\n      <td>42285</td>\n      <td>Customer</td>\n      <td>2001</td>\n      <td>1</td>\n      <td>2020-10-01 00:05:18.368</td>\n      <td>2020-10-01 00:23:36.124</td>\n      <td>Thursday</td>\n      <td>Thursday</td>\n    </tr>\n    <tr>\n      <th>4</th>\n      <td>277</td>\n      <td>2020-10-01 00:09:17.5990</td>\n      <td>2020-10-01 00:13:55.5150</td>\n      <td>3199</td>\n      <td>Newport Pkwy</td>\n      <td>40.728745</td>\n      <td>-74.032108</td>\n      <td>3638</td>\n      <td>Washington St</td>\n      <td>40.724294</td>\n      <td>-74.035483</td>\n      <td>45231</td>\n      <td>Subscriber</td>\n      <td>1965</td>\n      <td>1</td>\n      <td>2020-10-01 00:09:17.599</td>\n      <td>2020-10-01 00:13:55.515</td>\n      <td>Thursday</td>\n      <td>Thursday</td>\n    </tr>\n    <tr>\n      <th>...</th>\n      <td>...</td>\n      <td>...</td>\n      <td>...</td>\n      <td>...</td>\n      <td>...</td>\n      <td>...</td>\n      <td>...</td>\n      <td>...</td>\n      <td>...</td>\n      <td>...</td>\n      <td>...</td>\n      <td>...</td>\n      <td>...</td>\n      <td>...</td>\n      <td>...</td>\n      <td>...</td>\n      <td>...</td>\n      <td>...</td>\n      <td>...</td>\n    </tr>\n    <tr>\n      <th>53828</th>\n      <td>270</td>\n      <td>2020-10-13 15:05:35.0860</td>\n      <td>2020-10-13 15:10:05.3430</td>\n      <td>3207</td>\n      <td>Oakland Ave</td>\n      <td>40.737604</td>\n      <td>-74.052478</td>\n      <td>3640</td>\n      <td>Journal Square</td>\n      <td>40.733670</td>\n      <td>-74.062500</td>\n      <td>44744</td>\n      <td>Subscriber</td>\n      <td>1963</td>\n      <td>2</td>\n      <td>2020-10-13 15:05:35.086</td>\n      <td>2020-10-13 15:10:05.343</td>\n      <td>Tuesday</td>\n      <td>Tuesday</td>\n    </tr>\n    <tr>\n      <th>53829</th>\n      <td>400</td>\n      <td>2020-10-13 15:09:03.4890</td>\n      <td>2020-10-13 15:15:43.9750</td>\n      <td>3209</td>\n      <td>Brunswick St</td>\n      <td>40.724176</td>\n      <td>-74.050656</td>\n      <td>3209</td>\n      <td>Brunswick St</td>\n      <td>40.724176</td>\n      <td>-74.050656</td>\n      <td>45345</td>\n      <td>Subscriber</td>\n      <td>1984</td>\n      <td>1</td>\n      <td>2020-10-13 15:09:03.489</td>\n      <td>2020-10-13 15:15:43.975</td>\n      <td>Tuesday</td>\n      <td>Tuesday</td>\n    </tr>\n    <tr>\n      <th>53830</th>\n      <td>206</td>\n      <td>2020-10-13 15:11:34.3500</td>\n      <td>2020-10-13 15:15:00.5030</td>\n      <td>3195</td>\n      <td>Sip Ave</td>\n      <td>40.730897</td>\n      <td>-74.063913</td>\n      <td>3194</td>\n      <td>McGinley Square</td>\n      <td>40.725340</td>\n      <td>-74.067622</td>\n      <td>47019</td>\n      <td>Subscriber</td>\n      <td>1993</td>\n      <td>1</td>\n      <td>2020-10-13 15:11:34.350</td>\n      <td>2020-10-13 15:15:00.503</td>\n      <td>Tuesday</td>\n      <td>Tuesday</td>\n    </tr>\n    <tr>\n      <th>53831</th>\n      <td>216</td>\n      <td>2020-10-13 15:11:49.1510</td>\n      <td>2020-10-13 15:15:25.6930</td>\n      <td>3195</td>\n      <td>Sip Ave</td>\n      <td>40.730897</td>\n      <td>-74.063913</td>\n      <td>3225</td>\n      <td>Baldwin at Montgomery</td>\n      <td>40.723659</td>\n      <td>-74.064194</td>\n      <td>42191</td>\n      <td>Subscriber</td>\n      <td>1966</td>\n      <td>1</td>\n      <td>2020-10-13 15:11:49.151</td>\n      <td>2020-10-13 15:15:25.693</td>\n      <td>Tuesday</td>\n      <td>Tuesday</td>\n    </tr>\n    <tr>\n      <th>53832</th>\n      <td>418</td>\n      <td>2020-10-13 15:12:31.7920</td>\n      <td>2020-10-13 15:19:30.5280</td>\n      <td>3267</td>\n      <td>Morris Canal</td>\n      <td>40.712419</td>\n      <td>-74.038526</td>\n      <td>3186</td>\n      <td>Grove St PATH</td>\n      <td>40.719586</td>\n      <td>-74.043117</td>\n      <td>47255</td>\n      <td>Subscriber</td>\n      <td>1991</td>\n      <td>1</td>\n      <td>2020-10-13 15:12:31.792</td>\n      <td>2020-10-13 15:19:30.528</td>\n      <td>Tuesday</td>\n      <td>Tuesday</td>\n    </tr>\n  </tbody>\n</table>\n<p>393312 rows × 19 columns</p>\n</div>"
     },
     "metadata": {},
     "execution_count": 6
    }
   ],
   "source": [
    "# Add days of week\n",
    "df['startday'] = df['startdate'].dt.day_name()\n",
    "df['stopday'] = df['stopdate'].dt.day_name()\n",
    "df"
   ]
  },
  {
   "source": [
    "# LOAD\n",
    "Load to a 1 csv file 'citibikes_dataCombined.csv'"
   ],
   "cell_type": "markdown",
   "metadata": {}
  },
  {
   "cell_type": "code",
   "execution_count": 7,
   "metadata": {},
   "outputs": [],
   "source": [
    "# Export csv file and save to Extract_and Transofrm folder\n",
    "df.to_csv(r'Extract_and_Transform/citibikes_dataCombined.csv')"
   ]
  }
 ]
}