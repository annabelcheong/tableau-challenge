{
 "metadata": {
  "language_info": {
   "codemirror_mode": {
    "name": "ipython",
    "version": 3
   },
   "file_extension": ".py",
   "mimetype": "text/x-python",
   "name": "python",
   "nbconvert_exporter": "python",
   "pygments_lexer": "ipython3",
   "version": "3.6.10"
  },
  "orig_nbformat": 2,
  "kernelspec": {
   "name": "python3",
   "display_name": "Python 3.6.10 64-bit ('PythonData': conda)",
   "metadata": {
    "interpreter": {
     "hash": "e7fc2354c13015bdfad1755b4a48a3eeb5cb703f1c2bff07599d6953b8d3ca77"
    }
   }
  }
 },
 "nbformat": 4,
 "nbformat_minor": 2,
 "cells": [
  {
   "source": [
    "# SUMMARY\n",
    "This jupyter notebook performs ETL of the Citibike data from xxx Start date xxx to xxx End date xxx. \n",
    "The final dataframe is saved and loaded into a csv file for use in Tableau."
   ],
   "cell_type": "markdown",
   "metadata": {}
  },
  {
   "source": [
    "# Extraction and Transformation\n",
    "Extract the saved CSV files (each CSV file has 1 month of data) and combine them into 1 pandas dataframe. "
   ],
   "cell_type": "markdown",
   "metadata": {}
  },
  {
   "cell_type": "code",
   "execution_count": 21,
   "metadata": {},
   "outputs": [],
   "source": [
    "# Dependencies \n",
    "import pandas as pd\n",
    "from os import listdir"
   ]
  },
  {
   "source": [
    "# OPTION 1"
   ],
   "cell_type": "markdown",
   "metadata": {}
  },
  {
   "cell_type": "code",
   "execution_count": 2,
   "metadata": {},
   "outputs": [],
   "source": [
    "# Read the csv files,concatenate them into 1 dataframe\n",
    "citibikes_df = pd.concat(map(pd.read_csv,['RawData/JC-202101-citibike-tripdata.csv','RawData/JC-202102-citibike-tripdata.csv','RawData/JC-202103-citibike-tripdata.csv','RawData/JC-202104-citibike-tripdata.csv']))"
   ]
  },
  {
   "cell_type": "code",
   "execution_count": 3,
   "metadata": {},
   "outputs": [
    {
     "output_type": "execute_result",
     "data": {
      "text/plain": [
       "   tripduration                 starttime                  stoptime  \\\n",
       "0           266  2021-01-01 00:03:35.5100  2021-01-01 00:08:01.7770   \n",
       "1          1543  2021-01-01 00:23:32.9250  2021-01-01 00:49:16.0830   \n",
       "2          1461  2021-01-01 00:23:50.7940  2021-01-01 00:48:12.5660   \n",
       "3           793  2021-01-01 00:31:09.0770  2021-01-01 00:44:22.9430   \n",
       "4           596  2021-01-01 00:35:52.1900  2021-01-01 00:45:48.7740   \n",
       "\n",
       "   start station id start station name  start station latitude  \\\n",
       "0              3273       Manila & 1st               40.721651   \n",
       "1              3681           Grand St               40.715178   \n",
       "2              3681           Grand St               40.715178   \n",
       "3              3185          City Hall               40.717733   \n",
       "4              3639         Harborside               40.719252   \n",
       "\n",
       "   start station longitude  end station id end station name  \\\n",
       "0               -74.042884            3209     Brunswick St   \n",
       "1               -74.037683            3213   Van Vorst Park   \n",
       "2               -74.037683            3213   Van Vorst Park   \n",
       "3               -74.043845            3199     Newport Pkwy   \n",
       "4               -74.034234            3209     Brunswick St   \n",
       "\n",
       "   end station latitude  end station longitude  bikeid    usertype  \\\n",
       "0             40.724176             -74.050656   42494  Subscriber   \n",
       "1             40.718489             -74.047727   45343    Customer   \n",
       "2             40.718489             -74.047727   31794    Customer   \n",
       "3             40.728745             -74.032108   42316    Customer   \n",
       "4             40.724176             -74.050656   32575    Customer   \n",
       "\n",
       "   birth year  gender  \n",
       "0        1988       1  \n",
       "1        1996       2  \n",
       "2        1995       1  \n",
       "3        1969       0  \n",
       "4        1969       0  "
      ],
      "text/html": "<div>\n<style scoped>\n    .dataframe tbody tr th:only-of-type {\n        vertical-align: middle;\n    }\n\n    .dataframe tbody tr th {\n        vertical-align: top;\n    }\n\n    .dataframe thead th {\n        text-align: right;\n    }\n</style>\n<table border=\"1\" class=\"dataframe\">\n  <thead>\n    <tr style=\"text-align: right;\">\n      <th></th>\n      <th>tripduration</th>\n      <th>starttime</th>\n      <th>stoptime</th>\n      <th>start station id</th>\n      <th>start station name</th>\n      <th>start station latitude</th>\n      <th>start station longitude</th>\n      <th>end station id</th>\n      <th>end station name</th>\n      <th>end station latitude</th>\n      <th>end station longitude</th>\n      <th>bikeid</th>\n      <th>usertype</th>\n      <th>birth year</th>\n      <th>gender</th>\n    </tr>\n  </thead>\n  <tbody>\n    <tr>\n      <th>0</th>\n      <td>266</td>\n      <td>2021-01-01 00:03:35.5100</td>\n      <td>2021-01-01 00:08:01.7770</td>\n      <td>3273</td>\n      <td>Manila &amp; 1st</td>\n      <td>40.721651</td>\n      <td>-74.042884</td>\n      <td>3209</td>\n      <td>Brunswick St</td>\n      <td>40.724176</td>\n      <td>-74.050656</td>\n      <td>42494</td>\n      <td>Subscriber</td>\n      <td>1988</td>\n      <td>1</td>\n    </tr>\n    <tr>\n      <th>1</th>\n      <td>1543</td>\n      <td>2021-01-01 00:23:32.9250</td>\n      <td>2021-01-01 00:49:16.0830</td>\n      <td>3681</td>\n      <td>Grand St</td>\n      <td>40.715178</td>\n      <td>-74.037683</td>\n      <td>3213</td>\n      <td>Van Vorst Park</td>\n      <td>40.718489</td>\n      <td>-74.047727</td>\n      <td>45343</td>\n      <td>Customer</td>\n      <td>1996</td>\n      <td>2</td>\n    </tr>\n    <tr>\n      <th>2</th>\n      <td>1461</td>\n      <td>2021-01-01 00:23:50.7940</td>\n      <td>2021-01-01 00:48:12.5660</td>\n      <td>3681</td>\n      <td>Grand St</td>\n      <td>40.715178</td>\n      <td>-74.037683</td>\n      <td>3213</td>\n      <td>Van Vorst Park</td>\n      <td>40.718489</td>\n      <td>-74.047727</td>\n      <td>31794</td>\n      <td>Customer</td>\n      <td>1995</td>\n      <td>1</td>\n    </tr>\n    <tr>\n      <th>3</th>\n      <td>793</td>\n      <td>2021-01-01 00:31:09.0770</td>\n      <td>2021-01-01 00:44:22.9430</td>\n      <td>3185</td>\n      <td>City Hall</td>\n      <td>40.717733</td>\n      <td>-74.043845</td>\n      <td>3199</td>\n      <td>Newport Pkwy</td>\n      <td>40.728745</td>\n      <td>-74.032108</td>\n      <td>42316</td>\n      <td>Customer</td>\n      <td>1969</td>\n      <td>0</td>\n    </tr>\n    <tr>\n      <th>4</th>\n      <td>596</td>\n      <td>2021-01-01 00:35:52.1900</td>\n      <td>2021-01-01 00:45:48.7740</td>\n      <td>3639</td>\n      <td>Harborside</td>\n      <td>40.719252</td>\n      <td>-74.034234</td>\n      <td>3209</td>\n      <td>Brunswick St</td>\n      <td>40.724176</td>\n      <td>-74.050656</td>\n      <td>32575</td>\n      <td>Customer</td>\n      <td>1969</td>\n      <td>0</td>\n    </tr>\n  </tbody>\n</table>\n</div>"
     },
     "metadata": {},
     "execution_count": 3
    }
   ],
   "source": [
    "citibikes_df.head()"
   ]
  },
  {
   "source": [
    "# OPTION 2 \n",
    "- Import all csv files and concatenate\n",
    "    - Import all csvs from folder 'RawData'\n",
    "    - Concatenate all csvs\n"
   ],
   "cell_type": "markdown",
   "metadata": {}
  },
  {
   "cell_type": "code",
   "execution_count": 32,
   "metadata": {},
   "outputs": [
    {
     "output_type": "execute_result",
     "data": {
      "text/plain": [
       "      tripduration                 starttime                  stoptime  \\\n",
       "0              266  2021-01-01 00:03:35.5100  2021-01-01 00:08:01.7770   \n",
       "1             1543  2021-01-01 00:23:32.9250  2021-01-01 00:49:16.0830   \n",
       "2             1461  2021-01-01 00:23:50.7940  2021-01-01 00:48:12.5660   \n",
       "3              793  2021-01-01 00:31:09.0770  2021-01-01 00:44:22.9430   \n",
       "4              596  2021-01-01 00:35:52.1900  2021-01-01 00:45:48.7740   \n",
       "...            ...                       ...                       ...   \n",
       "4720           355  2021-02-28 23:28:40.4160  2021-02-28 23:34:35.7310   \n",
       "4721           269  2021-02-28 23:30:50.3470  2021-02-28 23:35:20.2370   \n",
       "4722           193  2021-02-28 23:35:24.5920  2021-02-28 23:38:38.3930   \n",
       "4723          2550  2021-02-28 23:39:43.4490  2021-03-01 00:22:13.4840   \n",
       "4724           358  2021-02-28 23:41:20.4330  2021-02-28 23:47:18.8140   \n",
       "\n",
       "      start station id start station name  start station latitude  \\\n",
       "0                 3273       Manila & 1st               40.721651   \n",
       "1                 3681           Grand St               40.715178   \n",
       "2                 3681           Grand St               40.715178   \n",
       "3                 3185          City Hall               40.717733   \n",
       "4                 3639         Harborside               40.719252   \n",
       "...                ...                ...                     ...   \n",
       "4720              3195            Sip Ave               40.730897   \n",
       "4721              3195            Sip Ave               40.730897   \n",
       "4722              3194    McGinley Square               40.725340   \n",
       "4723              3267       Morris Canal               40.712419   \n",
       "4724              3203      Hamilton Park               40.727596   \n",
       "\n",
       "      start station longitude  end station id   end station name  \\\n",
       "0                  -74.042884            3209       Brunswick St   \n",
       "1                  -74.037683            3213     Van Vorst Park   \n",
       "2                  -74.037683            3213     Van Vorst Park   \n",
       "3                  -74.043845            3199       Newport Pkwy   \n",
       "4                  -74.034234            3209       Brunswick St   \n",
       "...                       ...             ...                ...   \n",
       "4720               -74.063913            3194    McGinley Square   \n",
       "4721               -74.063913            3194    McGinley Square   \n",
       "4722               -74.067622            3195            Sip Ave   \n",
       "4723               -74.038526            3483      Montgomery St   \n",
       "4724               -74.044247            3205  JC Medical Center   \n",
       "\n",
       "      end station latitude  end station longitude  bikeid    usertype  \\\n",
       "0                40.724176             -74.050656   42494  Subscriber   \n",
       "1                40.718489             -74.047727   45343    Customer   \n",
       "2                40.718489             -74.047727   31794    Customer   \n",
       "3                40.728745             -74.032108   42316    Customer   \n",
       "4                40.724176             -74.050656   32575    Customer   \n",
       "...                    ...                    ...     ...         ...   \n",
       "4720             40.725340             -74.067622   42575  Subscriber   \n",
       "4721             40.725340             -74.067622   26469    Customer   \n",
       "4722             40.730897             -74.063913   42575    Customer   \n",
       "4723             40.719420             -74.050990   42277  Subscriber   \n",
       "4724             40.716540             -74.049638   44989    Customer   \n",
       "\n",
       "      birth year  gender  \n",
       "0           1988       1  \n",
       "1           1996       2  \n",
       "2           1995       1  \n",
       "3           1969       0  \n",
       "4           1969       0  \n",
       "...          ...     ...  \n",
       "4720        1987       1  \n",
       "4721        1970       0  \n",
       "4722        1970       0  \n",
       "4723        1958       1  \n",
       "4724        1970       0  \n",
       "\n",
       "[56510 rows x 15 columns]"
      ],
      "text/html": "<div>\n<style scoped>\n    .dataframe tbody tr th:only-of-type {\n        vertical-align: middle;\n    }\n\n    .dataframe tbody tr th {\n        vertical-align: top;\n    }\n\n    .dataframe thead th {\n        text-align: right;\n    }\n</style>\n<table border=\"1\" class=\"dataframe\">\n  <thead>\n    <tr style=\"text-align: right;\">\n      <th></th>\n      <th>tripduration</th>\n      <th>starttime</th>\n      <th>stoptime</th>\n      <th>start station id</th>\n      <th>start station name</th>\n      <th>start station latitude</th>\n      <th>start station longitude</th>\n      <th>end station id</th>\n      <th>end station name</th>\n      <th>end station latitude</th>\n      <th>end station longitude</th>\n      <th>bikeid</th>\n      <th>usertype</th>\n      <th>birth year</th>\n      <th>gender</th>\n    </tr>\n  </thead>\n  <tbody>\n    <tr>\n      <th>0</th>\n      <td>266</td>\n      <td>2021-01-01 00:03:35.5100</td>\n      <td>2021-01-01 00:08:01.7770</td>\n      <td>3273</td>\n      <td>Manila &amp; 1st</td>\n      <td>40.721651</td>\n      <td>-74.042884</td>\n      <td>3209</td>\n      <td>Brunswick St</td>\n      <td>40.724176</td>\n      <td>-74.050656</td>\n      <td>42494</td>\n      <td>Subscriber</td>\n      <td>1988</td>\n      <td>1</td>\n    </tr>\n    <tr>\n      <th>1</th>\n      <td>1543</td>\n      <td>2021-01-01 00:23:32.9250</td>\n      <td>2021-01-01 00:49:16.0830</td>\n      <td>3681</td>\n      <td>Grand St</td>\n      <td>40.715178</td>\n      <td>-74.037683</td>\n      <td>3213</td>\n      <td>Van Vorst Park</td>\n      <td>40.718489</td>\n      <td>-74.047727</td>\n      <td>45343</td>\n      <td>Customer</td>\n      <td>1996</td>\n      <td>2</td>\n    </tr>\n    <tr>\n      <th>2</th>\n      <td>1461</td>\n      <td>2021-01-01 00:23:50.7940</td>\n      <td>2021-01-01 00:48:12.5660</td>\n      <td>3681</td>\n      <td>Grand St</td>\n      <td>40.715178</td>\n      <td>-74.037683</td>\n      <td>3213</td>\n      <td>Van Vorst Park</td>\n      <td>40.718489</td>\n      <td>-74.047727</td>\n      <td>31794</td>\n      <td>Customer</td>\n      <td>1995</td>\n      <td>1</td>\n    </tr>\n    <tr>\n      <th>3</th>\n      <td>793</td>\n      <td>2021-01-01 00:31:09.0770</td>\n      <td>2021-01-01 00:44:22.9430</td>\n      <td>3185</td>\n      <td>City Hall</td>\n      <td>40.717733</td>\n      <td>-74.043845</td>\n      <td>3199</td>\n      <td>Newport Pkwy</td>\n      <td>40.728745</td>\n      <td>-74.032108</td>\n      <td>42316</td>\n      <td>Customer</td>\n      <td>1969</td>\n      <td>0</td>\n    </tr>\n    <tr>\n      <th>4</th>\n      <td>596</td>\n      <td>2021-01-01 00:35:52.1900</td>\n      <td>2021-01-01 00:45:48.7740</td>\n      <td>3639</td>\n      <td>Harborside</td>\n      <td>40.719252</td>\n      <td>-74.034234</td>\n      <td>3209</td>\n      <td>Brunswick St</td>\n      <td>40.724176</td>\n      <td>-74.050656</td>\n      <td>32575</td>\n      <td>Customer</td>\n      <td>1969</td>\n      <td>0</td>\n    </tr>\n    <tr>\n      <th>...</th>\n      <td>...</td>\n      <td>...</td>\n      <td>...</td>\n      <td>...</td>\n      <td>...</td>\n      <td>...</td>\n      <td>...</td>\n      <td>...</td>\n      <td>...</td>\n      <td>...</td>\n      <td>...</td>\n      <td>...</td>\n      <td>...</td>\n      <td>...</td>\n      <td>...</td>\n    </tr>\n    <tr>\n      <th>4720</th>\n      <td>355</td>\n      <td>2021-02-28 23:28:40.4160</td>\n      <td>2021-02-28 23:34:35.7310</td>\n      <td>3195</td>\n      <td>Sip Ave</td>\n      <td>40.730897</td>\n      <td>-74.063913</td>\n      <td>3194</td>\n      <td>McGinley Square</td>\n      <td>40.725340</td>\n      <td>-74.067622</td>\n      <td>42575</td>\n      <td>Subscriber</td>\n      <td>1987</td>\n      <td>1</td>\n    </tr>\n    <tr>\n      <th>4721</th>\n      <td>269</td>\n      <td>2021-02-28 23:30:50.3470</td>\n      <td>2021-02-28 23:35:20.2370</td>\n      <td>3195</td>\n      <td>Sip Ave</td>\n      <td>40.730897</td>\n      <td>-74.063913</td>\n      <td>3194</td>\n      <td>McGinley Square</td>\n      <td>40.725340</td>\n      <td>-74.067622</td>\n      <td>26469</td>\n      <td>Customer</td>\n      <td>1970</td>\n      <td>0</td>\n    </tr>\n    <tr>\n      <th>4722</th>\n      <td>193</td>\n      <td>2021-02-28 23:35:24.5920</td>\n      <td>2021-02-28 23:38:38.3930</td>\n      <td>3194</td>\n      <td>McGinley Square</td>\n      <td>40.725340</td>\n      <td>-74.067622</td>\n      <td>3195</td>\n      <td>Sip Ave</td>\n      <td>40.730897</td>\n      <td>-74.063913</td>\n      <td>42575</td>\n      <td>Customer</td>\n      <td>1970</td>\n      <td>0</td>\n    </tr>\n    <tr>\n      <th>4723</th>\n      <td>2550</td>\n      <td>2021-02-28 23:39:43.4490</td>\n      <td>2021-03-01 00:22:13.4840</td>\n      <td>3267</td>\n      <td>Morris Canal</td>\n      <td>40.712419</td>\n      <td>-74.038526</td>\n      <td>3483</td>\n      <td>Montgomery St</td>\n      <td>40.719420</td>\n      <td>-74.050990</td>\n      <td>42277</td>\n      <td>Subscriber</td>\n      <td>1958</td>\n      <td>1</td>\n    </tr>\n    <tr>\n      <th>4724</th>\n      <td>358</td>\n      <td>2021-02-28 23:41:20.4330</td>\n      <td>2021-02-28 23:47:18.8140</td>\n      <td>3203</td>\n      <td>Hamilton Park</td>\n      <td>40.727596</td>\n      <td>-74.044247</td>\n      <td>3205</td>\n      <td>JC Medical Center</td>\n      <td>40.716540</td>\n      <td>-74.049638</td>\n      <td>44989</td>\n      <td>Customer</td>\n      <td>1970</td>\n      <td>0</td>\n    </tr>\n  </tbody>\n</table>\n<p>56510 rows × 15 columns</p>\n</div>"
     },
     "metadata": {},
     "execution_count": 32
    }
   ],
   "source": [
    "# Extract all csvs from folder RawData\n",
    "filepaths = ['RawData/' + f for f in listdir(\"RawData\") if f.endswith('.csv')]\n",
    "filepaths\n",
    "# Concatentate the csvs and save into a pandas dataframe\n",
    "df = pd.concat(map(pd.read_csv,filepaths))\n",
    "df"
   ]
  },
  {
   "source": [
    "# LOAD\n",
    "Load to a 1 csv file 'citibikes_dataCombined.csv'"
   ],
   "cell_type": "markdown",
   "metadata": {}
  },
  {
   "cell_type": "code",
   "execution_count": 33,
   "metadata": {},
   "outputs": [],
   "source": [
    "# Export csv file and save to Extract_and Transofrm folder\n",
    "df.to_csv(r'Extract_and_Transform/citibikes_dataCombined.csv')"
   ]
  }
 ]
}